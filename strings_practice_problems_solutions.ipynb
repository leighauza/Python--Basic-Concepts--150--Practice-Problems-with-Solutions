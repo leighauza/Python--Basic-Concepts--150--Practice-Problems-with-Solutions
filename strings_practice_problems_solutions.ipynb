{
 "cells": [
  {
   "cell_type": "markdown",
   "metadata": {},
   "source": [
    "### Basic String Operations"
   ]
  },
  {
   "cell_type": "markdown",
   "metadata": {},
   "source": [
    "1. Convert the string \"hello world\" to uppercase."
   ]
  },
  {
   "cell_type": "code",
   "execution_count": 6,
   "metadata": {},
   "outputs": [
    {
     "name": "stdout",
     "output_type": "stream",
     "text": [
      "HELLO WORLD\n"
     ]
    }
   ],
   "source": [
    "string = 'hello world'\n",
    "print(string.upper())"
   ]
  },
  {
   "cell_type": "markdown",
   "metadata": {},
   "source": [
    "2. Convert \"PYTHON is FUN\" to lowercase."
   ]
  },
  {
   "cell_type": "code",
   "execution_count": 1,
   "metadata": {},
   "outputs": [
    {
     "name": "stdout",
     "output_type": "stream",
     "text": [
      "python is fun\n"
     ]
    }
   ],
   "source": [
    "string = \"PYTHON is FUN\"\n",
    "print(string.lower())"
   ]
  },
  {
   "cell_type": "markdown",
   "metadata": {},
   "source": [
    "3. Replace all occurrences of the word \"Python\" with \"Programming\" in the string: \"Python is great. Python is versatile.\""
   ]
  },
  {
   "cell_type": "code",
   "execution_count": 10,
   "metadata": {},
   "outputs": [
    {
     "name": "stdout",
     "output_type": "stream",
     "text": [
      "Programming is great. Programming is versatile.\n"
     ]
    }
   ],
   "source": [
    "string = \"Python is great. Python is versatile.\"\n",
    "print(string.replace(\"Python\", \"Programming\"))"
   ]
  },
  {
   "cell_type": "markdown",
   "metadata": {},
   "source": [
    "### String Splitting and Joining"
   ]
  },
  {
   "cell_type": "markdown",
   "metadata": {},
   "source": [
    "4. Find the length of the string: \"Data Analysis with Python\"."
   ]
  },
  {
   "cell_type": "code",
   "execution_count": 3,
   "metadata": {},
   "outputs": [
    {
     "name": "stdout",
     "output_type": "stream",
     "text": [
      "25\n"
     ]
    }
   ],
   "source": [
    "string = \"Data Analysis with Python\"\n",
    "print(len(string))"
   ]
  },
  {
   "cell_type": "markdown",
   "metadata": {},
   "source": [
    "5. Split the string \"apple,banana,cherry\" into a list of fruits."
   ]
  },
  {
   "cell_type": "code",
   "execution_count": 9,
   "metadata": {},
   "outputs": [
    {
     "name": "stdout",
     "output_type": "stream",
     "text": [
      "['apple', 'banana', 'cherry']\n"
     ]
    }
   ],
   "source": [
    "string = \"apple, banana, cherry\"\n",
    "print(string.split(', '))"
   ]
  },
  {
   "cell_type": "markdown",
   "metadata": {},
   "source": [
    "6. Join the list ['red', 'green', 'blue'] into a single string with a hyphen () separating the words."
   ]
  },
  {
   "cell_type": "code",
   "execution_count": 6,
   "metadata": {},
   "outputs": [
    {
     "name": "stdout",
     "output_type": "stream",
     "text": [
      "red, green, blue\n"
     ]
    }
   ],
   "source": [
    "list = ['red', 'green', 'blue']\n",
    "print(\", \".join(list))"
   ]
  },
  {
   "cell_type": "markdown",
   "metadata": {},
   "source": [
    "7. Extract the domain name from the email \"student@example.com\"."
   ]
  },
  {
   "cell_type": "code",
   "execution_count": 8,
   "metadata": {},
   "outputs": [
    {
     "name": "stdout",
     "output_type": "stream",
     "text": [
      "student\n"
     ]
    }
   ],
   "source": [
    "email = \"student@example.com\"\n",
    "index = email.index('@')\n",
    "domain = email[:index]\n",
    "print(domain)"
   ]
  },
  {
   "cell_type": "markdown",
   "metadata": {},
   "source": [
    "### String Slicing"
   ]
  },
  {
   "cell_type": "markdown",
   "metadata": {},
   "source": [
    "8. Extract the first five characters of the string \"Data Analysis with Python\"."
   ]
  },
  {
   "cell_type": "code",
   "execution_count": 19,
   "metadata": {},
   "outputs": [
    {
     "name": "stdout",
     "output_type": "stream",
     "text": [
      "Data \n"
     ]
    }
   ],
   "source": [
    "string = \"Data Analysis with Python\"\n",
    "print(string[:5])"
   ]
  },
  {
   "cell_type": "markdown",
   "metadata": {},
   "source": [
    "9. Get the last four characters of \"Learning Strings in Python\"."
   ]
  },
  {
   "cell_type": "code",
   "execution_count": 21,
   "metadata": {},
   "outputs": [
    {
     "name": "stdout",
     "output_type": "stream",
     "text": [
      "thon\n"
     ]
    }
   ],
   "source": [
    "string = \"Learning Strings in Python\"\n",
    "print(string[-4:])"
   ]
  },
  {
   "cell_type": "markdown",
   "metadata": {},
   "source": [
    "10. Reverse the string \"Python Programming\" using slicing."
   ]
  },
  {
   "cell_type": "code",
   "execution_count": 22,
   "metadata": {},
   "outputs": [
    {
     "name": "stdout",
     "output_type": "stream",
     "text": [
      "gnimmargorP nohtyP\n"
     ]
    }
   ],
   "source": [
    "string = \"Python Programming\"\n",
    "print(string[::-1])"
   ]
  },
  {
   "cell_type": "markdown",
   "metadata": {},
   "source": [
    "### Advanced String Use Cases"
   ]
  },
  {
   "cell_type": "markdown",
   "metadata": {},
   "source": [
    "11. Check if the string \"python\" exists in \"I am learning python for data analysis\". Print True or False."
   ]
  },
  {
   "cell_type": "code",
   "execution_count": 24,
   "metadata": {},
   "outputs": [
    {
     "name": "stdout",
     "output_type": "stream",
     "text": [
      "True\n"
     ]
    }
   ],
   "source": [
    "text = \"I am learning python for data analysis\"\n",
    "word = \"python\"\n",
    "\n",
    "if word in text:\n",
    "  print(True)\n",
    "else:\n",
    "  print(False)"
   ]
  },
  {
   "cell_type": "markdown",
   "metadata": {},
   "source": [
    "12. Count how many times the letter \"a\" appears in the string: \"Data Analysis is Amazing\"."
   ]
  },
  {
   "cell_type": "code",
   "execution_count": 26,
   "metadata": {},
   "outputs": [
    {
     "name": "stdout",
     "output_type": "stream",
     "text": [
      "4\n"
     ]
    }
   ],
   "source": [
    "string = \"Data Analysis is Amazing\"\n",
    "print(string.count(\"a\"))"
   ]
  },
  {
   "cell_type": "markdown",
   "metadata": {},
   "source": [
    "13. Replace all spaces in the string \"Python is awesome\" with underscores."
   ]
  },
  {
   "cell_type": "code",
   "execution_count": 27,
   "metadata": {},
   "outputs": [
    {
     "name": "stdout",
     "output_type": "stream",
     "text": [
      "Python_is_awesome\n"
     ]
    }
   ],
   "source": [
    "string = \"Python is awesome\"\n",
    "print(string.replace(\" \", \"_\"))"
   ]
  },
  {
   "cell_type": "markdown",
   "metadata": {},
   "source": [
    "### Combining String Methods"
   ]
  },
  {
   "cell_type": "markdown",
   "metadata": {},
   "source": [
    "14. Normalize a messy string by:\n",
    "    - Converting `\" PyTHon IS CooL \"` to `\"python is cool\"` (strip, lower, etc.)."
   ]
  },
  {
   "cell_type": "code",
   "execution_count": 29,
   "metadata": {},
   "outputs": [
    {
     "name": "stdout",
     "output_type": "stream",
     "text": [
      "python is cool\n"
     ]
    }
   ],
   "source": [
    "string = \"PyTHon IS Cool \"\n",
    "new_string = string.lower().strip()\n",
    "print(new_string)"
   ]
  },
  {
   "cell_type": "markdown",
   "metadata": {},
   "source": [
    "15. Capitalize the first letter of each word in \"data analysis is amazing\"."
   ]
  },
  {
   "cell_type": "code",
   "execution_count": 30,
   "metadata": {},
   "outputs": [
    {
     "name": "stdout",
     "output_type": "stream",
     "text": [
      "Data Analysis Is Amazing\n"
     ]
    }
   ],
   "source": [
    "string = \"data analysis is amazing\"\n",
    "print(string.title())"
   ]
  },
  {
   "cell_type": "markdown",
   "metadata": {},
   "source": [
    "### String Formatting"
   ]
  },
  {
   "cell_type": "markdown",
   "metadata": {},
   "source": [
    "16. Use an f-string to print: \"Hello, John! You have 5 new messages.\", where \"John\" and \"5\" are variables."
   ]
  },
  {
   "cell_type": "code",
   "execution_count": 32,
   "metadata": {},
   "outputs": [
    {
     "name": "stdout",
     "output_type": "stream",
     "text": [
      "Hello, John! You have 5 new messages.\n"
     ]
    }
   ],
   "source": [
    "name = \"John\"\n",
    "number = 5\n",
    "\n",
    "message = f\"Hello, {name}! You have {number} new messages.\"\n",
    "print(message)"
   ]
  },
  {
   "cell_type": "markdown",
   "metadata": {},
   "source": [
    "17. Format the float 3.14159265 to display only two decimal places in the string: \"The value of pi is 3.14\"."
   ]
  },
  {
   "cell_type": "code",
   "execution_count": 35,
   "metadata": {},
   "outputs": [
    {
     "name": "stdout",
     "output_type": "stream",
     "text": [
      "The value of pi is 3.14\n"
     ]
    }
   ],
   "source": [
    "pi = 3.14159265\n",
    "value_pi = round(pi, 2)\n",
    "message = f\"The value of pi is {value_pi}\"\n",
    "\n",
    "print(message)"
   ]
  },
  {
   "cell_type": "markdown",
   "metadata": {},
   "source": [
    "### Real-World Applications"
   ]
  },
  {
   "cell_type": "markdown",
   "metadata": {},
   "source": [
    "18. Write a program that validates if a given string is a valid email address. (Hint: Look for @ and ..)"
   ]
  },
  {
   "cell_type": "code",
   "execution_count": 36,
   "metadata": {},
   "outputs": [
    {
     "name": "stdout",
     "output_type": "stream",
     "text": [
      "True\n"
     ]
    }
   ],
   "source": [
    "def valid_email(email):\n",
    "  if \"@\" in email and \".\" in email:\n",
    "    return True\n",
    "  return False\n",
    "\n",
    "print(valid_email(\"student@example.com\"))"
   ]
  },
  {
   "cell_type": "markdown",
   "metadata": {},
   "source": [
    "19. Given a paragraph, count how many sentences it contains. (Assume sentences end with ., !, or ?.)"
   ]
  },
  {
   "cell_type": "code",
   "execution_count": 45,
   "metadata": {},
   "outputs": [
    {
     "name": "stdout",
     "output_type": "stream",
     "text": [
      "4\n"
     ]
    }
   ],
   "source": [
    "import re\n",
    "\n",
    "def count_sentences(paragraph):\n",
    "    # Use regex to find all occurrences of '.', '!', or '?', followed by optional whitespace\n",
    "    sentences = re.split(r'[.!?]\\s*', paragraph.strip())\n",
    "    # Remove empty strings from the list\n",
    "    sentences = [s for s in sentences if s]\n",
    "    return len(sentences)\n",
    "\n",
    "# Example usage\n",
    "paragraph = \"Hello! How are you? I hope you're doing well. This is fun.\"\n",
    "print(count_sentences(paragraph))  # Output: 4\n",
    "\n"
   ]
  },
  {
   "cell_type": "markdown",
   "metadata": {},
   "source": [
    "20. Write a function that checks if a string is a palindrome (reads the same backward as forward), e.g., \"madam\" or \"racecar\"."
   ]
  },
  {
   "cell_type": "code",
   "execution_count": 48,
   "metadata": {},
   "outputs": [
    {
     "name": "stdout",
     "output_type": "stream",
     "text": [
      "True\n",
      "True\n"
     ]
    }
   ],
   "source": [
    "def palindrome(word):\n",
    "  word = word.replace(\" \", \"\").lower()\n",
    "  return word == word[::-1]\n",
    "\n",
    "print(palindrome(\"Madam\"))\n",
    "print(palindrome(\"racecar\"))"
   ]
  },
  {
   "cell_type": "markdown",
   "metadata": {},
   "source": [
    "### Challenging Problems"
   ]
  },
  {
   "cell_type": "markdown",
   "metadata": {},
   "source": [
    "21. Write a function to count the number of words in a string."
   ]
  },
  {
   "cell_type": "code",
   "execution_count": 49,
   "metadata": {},
   "outputs": [
    {
     "name": "stdout",
     "output_type": "stream",
     "text": [
      "8\n"
     ]
    }
   ],
   "source": [
    "def count_words(string):\n",
    "  words = string.split()\n",
    "  return len(words)\n",
    "\n",
    "string = \"This is an example string for counting words.\"\n",
    "print(count_words(string))"
   ]
  },
  {
   "cell_type": "markdown",
   "metadata": {},
   "source": [
    "22. Replace all vowels (a, e, i, o, u) in a string with a \"*\"."
   ]
  },
  {
   "cell_type": "code",
   "execution_count": 51,
   "metadata": {},
   "outputs": [
    {
     "name": "stdout",
     "output_type": "stream",
     "text": [
      "R*pl*c* *ll v*w*ls *n th*s s*nt*nc*.\n"
     ]
    }
   ],
   "source": [
    "def replace_vowels(string):\n",
    "  vowels = \"aeiouAEIOU\"\n",
    "  for vowel in vowels:\n",
    "    string = string.replace(vowel, \"*\")\n",
    "  return string\n",
    "\n",
    "sentence = \"Replace all vowels in this sentence.\"\n",
    "print(replace_vowels(sentence))\n"
   ]
  },
  {
   "cell_type": "markdown",
   "metadata": {},
   "source": [
    "23. Write a function that extracts all unique words from a sentence and sorts them alphabetically."
   ]
  },
  {
   "cell_type": "code",
   "execution_count": 52,
   "metadata": {},
   "outputs": [
    {
     "name": "stdout",
     "output_type": "stream",
     "text": [
      "['a', 'can', 'function', 'is', 'out', 'sample', 'sentence', 'test', 'this', 'to', 'unique', 'use', 'words', 'you', 'your']\n"
     ]
    }
   ],
   "source": [
    "def unique_words(sentence):\n",
    "  words_list = sentence.lower().replace(\".\", \" \").replace(\"?\", \" \").replace(\"!\", \" \").split()\n",
    "  unique_words_list = sorted(set(words_list))\n",
    "  return unique_words_list\n",
    "\n",
    "sentence_sample = \"This is a sample sentence you can use to test out your unique words function.\"\n",
    "print(unique_words(sentence_sample))\n"
   ]
  }
 ],
 "metadata": {
  "kernelspec": {
   "display_name": "base",
   "language": "python",
   "name": "python3"
  },
  "language_info": {
   "codemirror_mode": {
    "name": "ipython",
    "version": 3
   },
   "file_extension": ".py",
   "mimetype": "text/x-python",
   "name": "python",
   "nbconvert_exporter": "python",
   "pygments_lexer": "ipython3",
   "version": "3.8.8"
  }
 },
 "nbformat": 4,
 "nbformat_minor": 2
}
