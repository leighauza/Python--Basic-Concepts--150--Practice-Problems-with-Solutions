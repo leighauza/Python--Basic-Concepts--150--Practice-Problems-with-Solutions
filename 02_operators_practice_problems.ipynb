{
 "cells": [
  {
   "cell_type": "markdown",
   "metadata": {},
   "source": [
    "### Basic Problems"
   ]
  },
  {
   "cell_type": "markdown",
   "metadata": {},
   "source": [
    "1. **Arithmetic Operators:**\n",
    "Write a program that calculates:\n",
    "    - The sum of two numbers, `a` and `b`.\n",
    "    - The difference between two numbers, `a` and `b`.\n",
    "    - The product of two numbers, `a` and `b`.\n",
    "    - The quotient when `a` is divided by `b`.\n",
    "    - The remainder when `a` is divided by `b`.\n",
    "    \n",
    "    Example:\n",
    "    \n",
    "    Input: `a = 12, b = 5`\n",
    "    \n",
    "    Output: `Sum = 17, Difference = 7, Product = 60, Quotient = 2.4, Remainder = 2`"
   ]
  },
  {
   "cell_type": "markdown",
   "metadata": {},
   "source": [
    "2. **Assignment Operators:**\n",
    "Initialize `x = 10`. Using assignment operators, update `x` to:\n",
    "    - Add 5\n",
    "    - Subtract 3\n",
    "    - Multiply by 2\n",
    "    - Divide by 4\n",
    "    - Find the remainder when divided by 3\n",
    "    \n",
    "    Print the value of `x` after each operation."
   ]
  },
  {
   "cell_type": "markdown",
   "metadata": {},
   "source": [
    "3. **Comparison Operators:**\n",
    "Write a program that takes two integers, a and b, as input and compares them using all six comparison operators (==, !=, <, >, <=, >=). Print the results."
   ]
  },
  {
   "cell_type": "markdown",
   "metadata": {},
   "source": [
    "### Intermediate Problems"
   ]
  },
  {
   "cell_type": "markdown",
   "metadata": {},
   "source": [
    "4. **Mixed Arithmetic & Comparison:**\n",
    "Write a function `compare_sum_and_product(a, b)` that:\n",
    "    - Computes the sum of `a` and `b`.\n",
    "    - Computes the product of `a` and `b`.\n",
    "    - Returns `True` if the sum is greater than the product, and `False` otherwise."
   ]
  },
  {
   "cell_type": "markdown",
   "metadata": {},
   "source": [
    "5. **Even or Odd using Modulus:**\n",
    "Write a program that checks whether a given integer n is even or odd using the modulus operator. Print \"Even\" or \"Odd\" based on the result."
   ]
  },
  {
   "cell_type": "markdown",
   "metadata": {},
   "source": [
    "6. **Power and Floor Division:**\n",
    "Write a program that:\n",
    "    - Takes two inputs, `base` and `exponent`, and computes the result of `base` raised to the power of `exponent` using `*`.\n",
    "    - Computes the result of floor division between `base` and `exponent` using `//`."
   ]
  },
  {
   "cell_type": "markdown",
   "metadata": {},
   "source": [
    "7. **Assignment Chain:**\n",
    "Initialize x = 5. Using assignment operators, update the value of x in the following chain:\n",
    "Square the value of x.\n",
    "Subtract 10.\n",
    "Double the result.\n",
    "Print the final value of x."
   ]
  },
  {
   "cell_type": "markdown",
   "metadata": {},
   "source": [
    "8. **Comparison in Conditionals:**\n",
    "Write a program that takes an integer `age` as input and:\n",
    "    - Prints \"Child\" if `age` is less than 13.\n",
    "    - Prints \"Teenager\" if `age` is between 13 and 19.\n",
    "    - Prints \"Adult\" if `age` is 20 or more."
   ]
  },
  {
   "cell_type": "markdown",
   "metadata": {},
   "source": [
    "9. **Min and Max Using Comparison:**\n",
    "Write a function `find_min_max(a, b, c)` that:\n",
    "    - Uses comparison operators to find the smallest and largest of three numbers, `a`, `b`, and `c`.\n",
    "    - Returns the minimum and maximum as a tuple."
   ]
  },
  {
   "cell_type": "markdown",
   "metadata": {},
   "source": [
    "### Advanced Problems"
   ]
  },
  {
   "cell_type": "markdown",
   "metadata": {},
   "source": [
    "10. **Order of Operations:**\n",
    "Write a program that evaluates the following expression:\n",
    "    \n",
    "    result=a2+b3−c2result = a^2 + b^3 - \\frac{c}{2}\n",
    "    \n",
    "    Use parentheses to ensure the correct order of operations. Test with `a = 3`, `b = 4`, and `c = 8`."
   ]
  },
  {
   "cell_type": "markdown",
   "metadata": {},
   "source": [
    "11. **Logical Comparisons:**\n",
    "Write a program that takes three numbers, `a`, `b`, and `c`, and checks whether:\n",
    "    - `a` is the largest.\n",
    "    - `b` is greater than `a` but less than `c`."
   ]
  },
  {
   "cell_type": "markdown",
   "metadata": {},
   "source": [
    "12. **Complex Comparisons:**\n",
    "Create a function `compare_with_threshold(a, b, threshold)` that:\n",
    "    - Returns `True` if `(a + b) / 2 > threshold`, otherwise `False`."
   ]
  },
  {
   "cell_type": "markdown",
   "metadata": {},
   "source": [
    "13. **Discount Calculation:**\n",
    "Write a program that calculates the final price of a product after applying a discount.\n",
    "    \n",
    "    Input:\n",
    "    \n",
    "    - `price` (float) - original price of the product.\n",
    "    - `discount_percentage` (int) - discount percentage to apply.\n",
    "    Output:\n",
    "    - Final price after discount.\n",
    "    Use arithmetic operators and the assignment operator to calculate and update the price."
   ]
  },
  {
   "cell_type": "markdown",
   "metadata": {},
   "source": [
    "14. **Number Reversal Check:**\n",
    "Write a program that:\n",
    "    - Reverses a given number using arithmetic operators.\n",
    "    - Compares the reversed number with the original number to check if it’s a palindrome.\n",
    "    Example: `121` is a palindrome, `123` is not."
   ]
  },
  {
   "cell_type": "markdown",
   "metadata": {},
   "source": [
    "15. **Prime Check:**\n",
    "Write a function `is_prime(n)` that:\n",
    "    - Checks whether a given number `n` is prime using modulus (`%`) and comparison operators.\n",
    "    - Returns `True` if `n` is prime and `False` otherwise.\n",
    "    Test for edge cases like `n = 0, 1, 2`."
   ]
  }
 ],
 "metadata": {
  "language_info": {
   "name": "python"
  }
 },
 "nbformat": 4,
 "nbformat_minor": 2
}
