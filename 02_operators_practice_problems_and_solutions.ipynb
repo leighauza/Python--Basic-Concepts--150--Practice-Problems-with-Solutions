{
 "cells": [
  {
   "cell_type": "markdown",
   "metadata": {},
   "source": [
    "### Basic Problems"
   ]
  },
  {
   "cell_type": "markdown",
   "metadata": {},
   "source": [
    "1. **Arithmetic Operators:**\n",
    "Write a program that calculates:\n",
    "    - The sum of two numbers, `a` and `b`.\n",
    "    - The difference between two numbers, `a` and `b`.\n",
    "    - The product of two numbers, `a` and `b`.\n",
    "    - The quotient when `a` is divided by `b`.\n",
    "    - The remainder when `a` is divided by `b`.\n",
    "    \n",
    "    Example:\n",
    "    \n",
    "    Input: `a = 12, b = 5`\n",
    "    \n",
    "    Output: `Sum = 17, Difference = 7, Product = 60, Quotient = 2.4, Remainder = 2`"
   ]
  },
  {
   "cell_type": "code",
   "execution_count": 1,
   "metadata": {},
   "outputs": [
    {
     "name": "stdout",
     "output_type": "stream",
     "text": [
      "(17, 7, 60, 2.4, 2)\n"
     ]
    }
   ],
   "source": [
    "def specific_calculator(a, b):\n",
    "  sum = a+b\n",
    "  difference = a-b\n",
    "  product = a*b\n",
    "  quotient = a/b\n",
    "  remainder = a%b\n",
    "  return sum, difference, product, quotient, remainder\n",
    "\n",
    "print(specific_calculator(12, 5))"
   ]
  },
  {
   "cell_type": "markdown",
   "metadata": {},
   "source": [
    "2. **Assignment Operators:**\n",
    "Initialize `x = 10`. Using assignment operators, update `x` to:\n",
    "    - Add 5\n",
    "    - Subtract 3\n",
    "    - Multiply by 2\n",
    "    - Divide by 4\n",
    "    - Find the remainder when divided by 3\n",
    "    \n",
    "    Print the value of `x` after each operation."
   ]
  },
  {
   "cell_type": "code",
   "execution_count": 9,
   "metadata": {},
   "outputs": [
    {
     "name": "stdout",
     "output_type": "stream",
     "text": [
      "15\n",
      "12\n",
      "24\n",
      "6.0\n",
      "0.0\n"
     ]
    }
   ],
   "source": [
    "x = 10 \n",
    "\n",
    "x += 5\n",
    "print(x)\n",
    "\n",
    "x -= 3\n",
    "print(x)\n",
    "\n",
    "x *= 2\n",
    "print(x)\n",
    "\n",
    "x /= 4\n",
    "print(x)\n",
    "\n",
    "x %= 3\n",
    "print(x)"
   ]
  },
  {
   "cell_type": "markdown",
   "metadata": {},
   "source": [
    "3. **Comparison Operators:**\n",
    "Write a program that takes two integers, a and b, as input and compares them using all six comparison operators (==, !=, <, >, <=, >=). Print the results."
   ]
  },
  {
   "cell_type": "code",
   "execution_count": 10,
   "metadata": {},
   "outputs": [
    {
     "name": "stdout",
     "output_type": "stream",
     "text": [
      "(True, False, False, False, True, True)\n"
     ]
    }
   ],
   "source": [
    "def comparison(a, b):\n",
    "  equal_to = a == b\n",
    "  not_equal_to = a != b\n",
    "  less_than = a < b\n",
    "  greater_than = a > b\n",
    "  less_than_equal_to = a <= b\n",
    "  greater_than_equal_to = a >= b\n",
    "  return equal_to, not_equal_to, less_than, greater_than, less_than_equal_to, greater_than_equal_to\n",
    "\n",
    "print(comparison(12, 12))"
   ]
  },
  {
   "cell_type": "markdown",
   "metadata": {},
   "source": [
    "### Intermediate Problems"
   ]
  },
  {
   "cell_type": "markdown",
   "metadata": {},
   "source": [
    "4. **Mixed Arithmetic & Comparison:**\n",
    "Write a function `compare_sum_and_product(a, b)` that:\n",
    "    - Computes the sum of `a` and `b`.\n",
    "    - Computes the product of `a` and `b`.\n",
    "    - Returns `True` if the sum is greater than the product, and `False` otherwise."
   ]
  },
  {
   "cell_type": "code",
   "execution_count": 15,
   "metadata": {},
   "outputs": [
    {
     "name": "stdout",
     "output_type": "stream",
     "text": [
      "True\n"
     ]
    }
   ],
   "source": [
    "def compare_sum_and_product(a, b):\n",
    "    sum = a + b\n",
    "    product = a * b\n",
    "    return sum > product\n",
    "\n",
    "print(compare_sum_and_product(1,1))"
   ]
  },
  {
   "cell_type": "markdown",
   "metadata": {},
   "source": [
    "5. **Even or Odd using Modulus:**\n",
    "Write a program that checks whether a given integer n is even or odd using the modulus operator. Print \"Even\" or \"Odd\" based on the result."
   ]
  },
  {
   "cell_type": "code",
   "execution_count": 4,
   "metadata": {},
   "outputs": [
    {
     "name": "stdout",
     "output_type": "stream",
     "text": [
      "Odd\n"
     ]
    }
   ],
   "source": [
    "def check_odd_even(integer):\n",
    "  if integer%2 == 0:\n",
    "    return \"Even\"\n",
    "  else:\n",
    "    return \"Odd\"\n",
    "\n",
    "print(check_odd_even(11))"
   ]
  },
  {
   "cell_type": "markdown",
   "metadata": {},
   "source": [
    "6. **Power and Floor Division:**\n",
    "Write a program that:\n",
    "    - Takes two inputs, `base` and `exponent`, and computes the result of `base` raised to the power of `exponent` using `*`.\n",
    "    - Computes the result of floor division between `base` and `exponent` using `//`."
   ]
  },
  {
   "cell_type": "code",
   "execution_count": 5,
   "metadata": {},
   "outputs": [
    {
     "name": "stdout",
     "output_type": "stream",
     "text": [
      "(9, 1)\n"
     ]
    }
   ],
   "source": [
    "def power_and_floor_div(base, exponent):\n",
    "  power = base ** exponent\n",
    "  floor_div = base // exponent\n",
    "  return power, floor_div\n",
    "\n",
    "print(power_and_floor_div(3,2))"
   ]
  },
  {
   "cell_type": "markdown",
   "metadata": {},
   "source": [
    "7. **Assignment Chain:**\n",
    "Initialize x = 5. Using assignment operators, update the value of x in the following chain:\n",
    "Square the value of x.\n",
    "Subtract 10.\n",
    "Double the result.\n",
    "Print the final value of x."
   ]
  },
  {
   "cell_type": "code",
   "execution_count": 6,
   "metadata": {},
   "outputs": [
    {
     "name": "stdout",
     "output_type": "stream",
     "text": [
      "30\n"
     ]
    }
   ],
   "source": [
    "x = 5\n",
    "x **= 2\n",
    "x -= 10\n",
    "x *= 2\n",
    "\n",
    "print(x)"
   ]
  },
  {
   "cell_type": "markdown",
   "metadata": {},
   "source": [
    "8. **Comparison in Conditionals:**\n",
    "Write a program that takes an integer `age` as input and:\n",
    "    - Prints \"Child\" if `age` is less than 13.\n",
    "    - Prints \"Teenager\" if `age` is between 13 and 19.\n",
    "    - Prints \"Adult\" if `age` is 20 or more."
   ]
  },
  {
   "cell_type": "code",
   "execution_count": 1,
   "metadata": {},
   "outputs": [
    {
     "name": "stdout",
     "output_type": "stream",
     "text": [
      "Adult\n"
     ]
    }
   ],
   "source": [
    "def category_age(age):\n",
    "  if age < 13:\n",
    "    return \"Child\"\n",
    "  elif 13 <= age <= 19:\n",
    "    return \"Teenager\"\n",
    "  else:\n",
    "    return \"Adult\"\n",
    "\n",
    "print(category_age(25))"
   ]
  },
  {
   "cell_type": "markdown",
   "metadata": {},
   "source": [
    "9. **Min and Max Using Comparison:**\n",
    "Write a function `find_min_max(a, b, c)` that:\n",
    "    - Uses comparison operators to find the smallest and largest of three numbers, `a`, `b`, and `c`.\n",
    "    - Returns the minimum and maximum as a tuple."
   ]
  },
  {
   "cell_type": "code",
   "execution_count": 2,
   "metadata": {},
   "outputs": [
    {
     "name": "stdout",
     "output_type": "stream",
     "text": [
      "(5, 7)\n"
     ]
    }
   ],
   "source": [
    "def find_min_max(a, b, c):\n",
    "  # Find the minimum\n",
    "  if a <= b and a <= c:\n",
    "    minimum = a\n",
    "  elif b <= a and b <= c:\n",
    "    minimum = b\n",
    "  else:\n",
    "    minimum = c\n",
    "  \n",
    "  # Find the maximum\n",
    "\n",
    "  if a >= b and a >= c:\n",
    "    maximum = a\n",
    "  elif b >= a and b >= c:\n",
    "    maximum = b\n",
    "  else:\n",
    "    maximum = c\n",
    "  \n",
    "  return (minimum, maximum)\n",
    "\n",
    "print(find_min_max(5, 6, 7))"
   ]
  },
  {
   "cell_type": "markdown",
   "metadata": {},
   "source": [
    "### Advanced Problems"
   ]
  },
  {
   "cell_type": "markdown",
   "metadata": {},
   "source": [
    "10. **Order of Operations:**\n",
    "Write a program that evaluates the following expression:\n",
    "    \n",
    "    result=a^2+b^3-c/2\n",
    "    \n",
    "    Use parentheses to ensure the correct order of operations. Test with `a = 3`, `b = 4`, and `c = 8`."
   ]
  },
  {
   "cell_type": "code",
   "execution_count": 16,
   "metadata": {},
   "outputs": [
    {
     "name": "stdout",
     "output_type": "stream",
     "text": [
      "69.0\n"
     ]
    }
   ],
   "source": [
    "def expression(a, b, c):\n",
    "  result = (a**2) + (b**3) - (c/2)\n",
    "  return result\n",
    "\n",
    "print(expression(3, 4, 8))"
   ]
  },
  {
   "cell_type": "markdown",
   "metadata": {},
   "source": [
    "11. **Logical Comparisons:**\n",
    "Write a program that takes three numbers, `a`, `b`, and `c`, and checks whether:\n",
    "    - `a` is the largest.\n",
    "    - `b` is greater than `a` but less than `c`."
   ]
  },
  {
   "cell_type": "code",
   "execution_count": 8,
   "metadata": {},
   "outputs": [
    {
     "name": "stdout",
     "output_type": "stream",
     "text": [
      "['A is not the largest.', 'B is greater than A, but not C.']\n"
     ]
    }
   ],
   "source": [
    "def checks_three_numbers (a,b,c):\n",
    "  results = []\n",
    "\n",
    "  if a > b & a > c:\n",
    "    results.append(\"A is the largest number.\")\n",
    "  else:\n",
    "    results.append(\"A is not the largest.\")\n",
    "  \n",
    "  if b > a & b < c:\n",
    "    results.append(\"B is greater than A, but not C.\")\n",
    "  else:\n",
    "    results.append(\"B is not greater than A and less than C.\")\n",
    "  \n",
    "  return results\n",
    "\n",
    "print(checks_three_numbers(1,2,3))\n",
    "  "
   ]
  },
  {
   "cell_type": "markdown",
   "metadata": {},
   "source": [
    "12. **Complex Comparisons:**\n",
    "Create a function `compare_with_threshold(a, b, threshold)` that:\n",
    "    - Returns `True` if `(a + b) / 2 > threshold`, otherwise `False`."
   ]
  },
  {
   "cell_type": "code",
   "execution_count": 12,
   "metadata": {},
   "outputs": [
    {
     "name": "stdout",
     "output_type": "stream",
     "text": [
      "False\n"
     ]
    }
   ],
   "source": [
    "def compare_with_threshold(a, b, threshold):\n",
    "  if (a + b) / 2 > threshold:\n",
    "    return True\n",
    "  else: \n",
    "    return False\n",
    "\n",
    "print(compare_with_threshold(1,2,3))"
   ]
  },
  {
   "cell_type": "markdown",
   "metadata": {},
   "source": [
    "13. **Discount Calculation:**\n",
    "Write a program that calculates the final price of a product after applying a discount.\n",
    "    \n",
    "    Input:\n",
    "    \n",
    "    - `price` (float) - original price of the product.\n",
    "    - `discount_percentage` (int) - discount percentage to apply.\n",
    "    Output:\n",
    "    - Final price after discount.\n",
    "    Use arithmetic operators and the assignment operator to calculate and update the price."
   ]
  },
  {
   "cell_type": "markdown",
   "metadata": {},
   "source": [
    "14. **Number Reversal Check:**\n",
    "Write a program that:\n",
    "    - Reverses a given number using arithmetic operators.\n",
    "    - Compares the reversed number with the original number to check if it’s a palindrome.\n",
    "    Example: `121` is a palindrome, `123` is not."
   ]
  },
  {
   "cell_type": "markdown",
   "metadata": {},
   "source": [
    "15. **Prime Check:**\n",
    "Write a function `is_prime(n)` that:\n",
    "    - Checks whether a given number `n` is prime using modulus (`%`) and comparison operators.\n",
    "    - Returns `True` if `n` is prime and `False` otherwise.\n",
    "    Test for edge cases like `n = 0, 1, 2`."
   ]
  }
 ],
 "metadata": {
  "kernelspec": {
   "display_name": "myenv",
   "language": "python",
   "name": "python3"
  },
  "language_info": {
   "codemirror_mode": {
    "name": "ipython",
    "version": 3
   },
   "file_extension": ".py",
   "mimetype": "text/x-python",
   "name": "python",
   "nbconvert_exporter": "python",
   "pygments_lexer": "ipython3",
   "version": "3.11.11"
  }
 },
 "nbformat": 4,
 "nbformat_minor": 2
}
