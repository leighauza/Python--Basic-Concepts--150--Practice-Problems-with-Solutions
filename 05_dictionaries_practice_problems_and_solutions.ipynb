{
 "cells": [
  {
   "cell_type": "markdown",
   "metadata": {},
   "source": [
    "# Dictionaries Problems\n",
    "\n",
    "Here are 15 Python practice problems on dictionaries, covering basic to advanced use cases. These problems will help you practice key concepts like accessing items, adding/updating entries, removing items, and using dictionary methods."
   ]
  },
  {
   "cell_type": "markdown",
   "metadata": {},
   "source": [
    "### Basic Problems"
   ]
  },
  {
   "cell_type": "markdown",
   "metadata": {},
   "source": [
    "1. **Create a Dictionary:**\n",
    "    - Create a dictionary to store the names and ages of three people. Print the dictionary."
   ]
  },
  {
   "cell_type": "code",
   "execution_count": 1,
   "metadata": {},
   "outputs": [
    {
     "name": "stdout",
     "output_type": "stream",
     "text": [
      "{'Sabrina Carpenter': 25, 'Chappell Roan': 26, 'Charli XCX': 32}\n"
     ]
    }
   ],
   "source": [
    "artists_of_2024 = {'Sabrina Carpenter':25, 'Chappell Roan':26, 'Charli XCX':32}\n",
    "\n",
    "print(artists_of_2024)"
   ]
  },
  {
   "cell_type": "markdown",
   "metadata": {},
   "source": [
    "2. **Accessing a Value:**\n",
    "    - Given the dictionary:\n",
    "    \n",
    "    Write a program to print the value associated with the key `\"age\"`."
   ]
  },
  {
   "cell_type": "code",
   "execution_count": 4,
   "metadata": {},
   "outputs": [
    {
     "data": {
      "text/plain": [
       "25"
      ]
     },
     "execution_count": 4,
     "metadata": {},
     "output_type": "execute_result"
    }
   ],
   "source": [
    "person = {\"name\": \"Alice\", \"age\": 25, \"city\": \"New York\"}\n",
    "\n",
    "person['age']"
   ]
  },
  {
   "cell_type": "markdown",
   "metadata": {},
   "source": [
    "3. **Add a New Key-Value Pair:**\n",
    "    - Add a new key `\"country\"` with the value `\"USA\"` to the dictionary:"
   ]
  },
  {
   "cell_type": "code",
   "execution_count": 6,
   "metadata": {},
   "outputs": [
    {
     "data": {
      "text/plain": [
       "{'name': 'John', 'age': 30, 'country': 'USA'}"
      ]
     },
     "execution_count": 6,
     "metadata": {},
     "output_type": "execute_result"
    }
   ],
   "source": [
    "info = {\"name\": \"John\", \"age\": 30}\n",
    "\n",
    "info.update({'country':'USA'})\n",
    "info"
   ]
  },
  {
   "cell_type": "markdown",
   "metadata": {},
   "source": [
    "4. **Check Key Existence:**\n",
    "    - Write a program to check if the key `\"city\"` exists in the following dictionary:"
   ]
  },
  {
   "cell_type": "code",
   "execution_count": 9,
   "metadata": {},
   "outputs": [
    {
     "name": "stdout",
     "output_type": "stream",
     "text": [
      "Key does not exist.\n"
     ]
    }
   ],
   "source": [
    "student = {\"name\": \"Emma\", \"grade\": \"A\"}\n",
    "\n",
    "def check_key(key):\n",
    "  if key in student:\n",
    "    return \"Key exists!\"\n",
    "  else:\n",
    "    return \"Key does not exist.\"\n",
    "\n",
    "print(check_key('city'))"
   ]
  },
  {
   "cell_type": "markdown",
   "metadata": {},
   "source": [
    "5. **Get Keys and Values:**\n",
    "    - Write a program to print all the keys and values of the following dictionary:"
   ]
  },
  {
   "cell_type": "code",
   "execution_count": 11,
   "metadata": {},
   "outputs": [
    {
     "name": "stdout",
     "output_type": "stream",
     "text": [
      "Key: product, Value: Laptop\n",
      "Key: price, Value: 1500\n",
      "Key: brand, Value: Dell\n"
     ]
    }
   ],
   "source": [
    "data = {\"product\": \"Laptop\", \"price\": 1500, \"brand\": \"Dell\"}\n",
    "\n",
    "for key, value in data.items():\n",
    "  print(f\"Key: {key}, Value: {value}\")"
   ]
  },
  {
   "cell_type": "markdown",
   "metadata": {},
   "source": [
    "### Intermediate Problems"
   ]
  },
  {
   "cell_type": "markdown",
   "metadata": {},
   "source": [
    "1. **Update a Value:**\n",
    "    - Update the value of the key `\"price\"` in the dictionary:\n",
    "    \n",
    "    Change `\"price\"` to 900."
   ]
  },
  {
   "cell_type": "code",
   "execution_count": 13,
   "metadata": {},
   "outputs": [
    {
     "data": {
      "text/plain": [
       "{'product': 'Phone', 'price': 900, 'stock': 50}"
      ]
     },
     "execution_count": 13,
     "metadata": {},
     "output_type": "execute_result"
    }
   ],
   "source": [
    "item = {\"product\": \"Phone\", \"price\": 800, \"stock\": 50}\n",
    "\n",
    "item.update({'price':900})\n",
    "item"
   ]
  },
  {
   "cell_type": "markdown",
   "metadata": {},
   "source": [
    "2. **Merge Two Dictionaries:**\n",
    "    - Merge the following two dictionaries:"
   ]
  },
  {
   "cell_type": "code",
   "execution_count": 18,
   "metadata": {},
   "outputs": [
    {
     "name": "stdout",
     "output_type": "stream",
     "text": [
      "{'name': 'Sam', 'age': 22, 'city': 'London', 'country': 'UK'}\n"
     ]
    }
   ],
   "source": [
    "dict1 = {\"name\": \"Sam\", \"age\": 22}\n",
    "dict2 = {\"city\": \"London\", \"country\": \"UK\"}\n",
    "\n",
    "dict3 = {**dict1, **dict2}\n",
    "print(dict3)"
   ]
  },
  {
   "cell_type": "markdown",
   "metadata": {},
   "source": [
    "3. **Remove a Key:**\n",
    "    - Remove the key `\"stock\"` from the dictionary:"
   ]
  },
  {
   "cell_type": "code",
   "execution_count": null,
   "metadata": {},
   "outputs": [],
   "source": [
    "inventory = {\"item\": \"Table\", \"price\": 120, \"stock\": 20}"
   ]
  },
  {
   "cell_type": "markdown",
   "metadata": {},
   "source": [
    "4. **Default Value Using `get`:**\n",
    "    - Write a program to safely get the value of the key `\"color\"` in the dictionary. If the key doesn’t exist, return `\"Unknown\"`."
   ]
  },
  {
   "cell_type": "code",
   "execution_count": null,
   "metadata": {},
   "outputs": [],
   "source": [
    "car = {\"brand\": \"Toyota\", \"model\": \"Corolla\"}"
   ]
  },
  {
   "cell_type": "markdown",
   "metadata": {},
   "source": [
    "5. **Count Words in a String:**\n",
    "    - Write a program that takes a string and counts the occurrences of each word. Store the result in a dictionary.\n",
    "    \n",
    "    Example:\n",
    "    \n",
    "    Input: `\"apple banana apple orange banana apple\"`\n",
    "    \n",
    "    Output: `{\"apple\": 3, \"banana\": 2, \"orange\": 1}`"
   ]
  },
  {
   "cell_type": "markdown",
   "metadata": {},
   "source": [
    "### Advanced Problems"
   ]
  },
  {
   "cell_type": "markdown",
   "metadata": {},
   "source": [
    "1. **Sort a Dictionary by Keys:**\n",
    "    - Write a program to sort the following dictionary by its keys:"
   ]
  },
  {
   "cell_type": "code",
   "execution_count": 19,
   "metadata": {},
   "outputs": [
    {
     "name": "stdout",
     "output_type": "stream",
     "text": [
      "{'Ava': 78, 'Emma': 85, 'Olivia': 92, 'Sophia': 90}\n"
     ]
    }
   ],
   "source": [
    "scores = {\"Emma\": 85, \"Olivia\": 92, \"Ava\": 78, \"Sophia\": 90}\n",
    "\n",
    "sorted_scores = dict(sorted(scores.items()))\n",
    "\n",
    "print(sorted_scores)\n"
   ]
  },
  {
   "cell_type": "markdown",
   "metadata": {},
   "source": [
    "2. **Find the Maximum Value:**\n",
    "    - Write a program to find the key with the maximum value in the dictionary:"
   ]
  },
  {
   "cell_type": "code",
   "execution_count": null,
   "metadata": {},
   "outputs": [],
   "source": [
    "marks = {\"Math\": 88, \"English\": 76, \"Science\": 90, \"History\": 80}"
   ]
  },
  {
   "cell_type": "markdown",
   "metadata": {},
   "source": [
    "3. **Nested Dictionary:**\n",
    "    - Create a nested dictionary to store student details:\n",
    "        - Name: John\n",
    "        - Age: 20\n",
    "        - Courses: `[\"Math\", \"Science\", \"English\"]`\n",
    "        Access and print the list of courses."
   ]
  },
  {
   "cell_type": "markdown",
   "metadata": {},
   "source": [
    "4. **Remove Duplicates Using Dictionary:**\n",
    "    - Given a list of tuples, write a program to remove duplicates based on the first value of each tuple. Use a dictionary to achieve this.\n",
    "    \n",
    "    Example:\n",
    "    \n",
    "    Input: `[(1, \"A\"), (2, \"B\"), (1, \"C\"), (3, \"D\"), (2, \"E\")]`\n",
    "    \n",
    "    Output: `{1: \"A\", 2: \"B\", 3: \"D\"}`"
   ]
  },
  {
   "cell_type": "markdown",
   "metadata": {},
   "source": [
    "5. **Frequency of Characters:**\n",
    "    - Write a program to count the frequency of each character in a string and store it in a dictionary.\n",
    "    \n",
    "    Example:\n",
    "    \n",
    "    Input: `\"hello world\"`\n",
    "    \n",
    "    Output: `{'h': 1, 'e': 1, 'l': 3, 'o': 2, 'w': 1, 'r': 1, 'd': 1}`"
   ]
  },
  {
   "cell_type": "markdown",
   "metadata": {},
   "source": [
    "### Bonus Problems"
   ]
  },
  {
   "cell_type": "markdown",
   "metadata": {},
   "source": [
    "1. **Invert a Dictionary:**\n",
    "    - Write a program to invert a dictionary. Swap the keys and values.\n",
    "    \n",
    "    Example:\n",
    "    \n",
    "    Input: `{\"a\": 1, \"b\": 2, \"c\": 3}`\n",
    "    \n",
    "    Output: `{1: \"a\", 2: \"b\", 3: \"c\"}`"
   ]
  },
  {
   "cell_type": "markdown",
   "metadata": {},
   "source": [
    "2. **Combine Dictionaries:**\n",
    "    - Write a program to combine the following dictionaries. If a key exists in both, sum their values:"
   ]
  },
  {
   "cell_type": "code",
   "execution_count": null,
   "metadata": {},
   "outputs": [],
   "source": [
    "dict1 = {\"a\": 5, \"b\": 10, \"c\": 15}\n",
    "dict2 = {\"b\": 5, \"c\": 10, \"d\": 20}"
   ]
  },
  {
   "cell_type": "markdown",
   "metadata": {},
   "source": [
    "3. **Group By Key:**\n",
    "    - Given a list of tuples, group the values by their keys into a dictionary.\n",
    "    \n",
    "    Example:\n",
    "    \n",
    "    Input: `[(1, \"A\"), (2, \"B\"), (1, \"C\"), (2, \"D\"), (3, \"E\")]`\n",
    "    \n",
    "    Output: `{1: [\"A\", \"C\"], 2: [\"B\", \"D\"], 3: [\"E\"]}`"
   ]
  },
  {
   "cell_type": "markdown",
   "metadata": {},
   "source": [
    "4. **Dictionary Comprehension:**\n",
    "    - Write a one-liner dictionary comprehension to create a dictionary of squares of numbers from 1 to 10."
   ]
  },
  {
   "cell_type": "markdown",
   "metadata": {},
   "source": [
    "5. **Filter a Dictionary:**\n",
    "    - Write a program to filter a dictionary to include only items with values greater than 50.\n",
    "    \n",
    "    Example:\n",
    "    \n",
    "    Input: `{\"a\": 40, \"b\": 60, \"c\": 30, \"d\": 80}`\n",
    "    \n",
    "    Output: `{\"b\": 60, \"d\": 80}`"
   ]
  }
 ],
 "metadata": {
  "kernelspec": {
   "display_name": "base",
   "language": "python",
   "name": "python3"
  },
  "language_info": {
   "codemirror_mode": {
    "name": "ipython",
    "version": 3
   },
   "file_extension": ".py",
   "mimetype": "text/x-python",
   "name": "python",
   "nbconvert_exporter": "python",
   "pygments_lexer": "ipython3",
   "version": "3.8.8"
  }
 },
 "nbformat": 4,
 "nbformat_minor": 2
}
