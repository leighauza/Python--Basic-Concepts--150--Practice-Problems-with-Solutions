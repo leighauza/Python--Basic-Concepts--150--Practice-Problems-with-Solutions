{
 "cells": [
  {
   "cell_type": "markdown",
   "metadata": {},
   "source": [
    "# Lists Problems\n",
    "\n",
    "Here’s a set of 20 Python practice problems to help you review and master list operations, ranging from basic to advanced use cases. These exercises cover a wide variety of list methods and concepts to strengthen your understanding."
   ]
  },
  {
   "cell_type": "markdown",
   "metadata": {},
   "source": [
    "### Basic Problems"
   ]
  },
  {
   "cell_type": "markdown",
   "metadata": {},
   "source": [
    "1. **List Creation and Access:**\n",
    "    - Create a list of your top 5 favorite fruits.\n",
    "    - Print the first and last items using indexing.\n",
    "    - Print the length of the list using `len()`."
   ]
  },
  {
   "cell_type": "code",
   "execution_count": 3,
   "metadata": {},
   "outputs": [
    {
     "name": "stdout",
     "output_type": "stream",
     "text": [
      "apple\n",
      "avocado\n",
      "5\n"
     ]
    }
   ],
   "source": [
    "favorite_fruits = ['apple', 'banana', 'mango', 'grapes', 'avocado']\n",
    "\n",
    "print(favorite_fruits[0])\n",
    "print(favorite_fruits[-1])\n",
    "print(len(favorite_fruits))"
   ]
  },
  {
   "cell_type": "markdown",
   "metadata": {},
   "source": [
    "2. **Append and Remove:**\n",
    "    - Start with an empty list and append the numbers 1 through 5 to it.\n",
    "    - Remove the number 3 from the list and print the result."
   ]
  },
  {
   "cell_type": "code",
   "execution_count": 6,
   "metadata": {},
   "outputs": [
    {
     "name": "stdout",
     "output_type": "stream",
     "text": [
      "[1, 2, 3, 4, 5]\n"
     ]
    }
   ],
   "source": [
    "numbers_list = []\n",
    "\n",
    "for x in range(1,6):\n",
    "  numbers_list.append(x)\n",
    "  \n",
    "print(numbers_list)"
   ]
  },
  {
   "cell_type": "markdown",
   "metadata": {},
   "source": [
    "3. **Index and Insert:**\n",
    "    - Given a list `colors = ['red', 'blue', 'green', 'yellow']`, find the index of `'green'` and insert `'purple'` before it.\n",
    "    - Print the updated list."
   ]
  },
  {
   "cell_type": "code",
   "execution_count": 10,
   "metadata": {},
   "outputs": [
    {
     "data": {
      "text/plain": [
       "['red', 'blue', 'purple', 'green', 'yellow']"
      ]
     },
     "execution_count": 10,
     "metadata": {},
     "output_type": "execute_result"
    }
   ],
   "source": [
    "colors = ['red', 'blue', 'green', 'yellow']\n",
    "\n",
    "colors.index('green')\n",
    "colors.insert(2,'purple')\n",
    "colors"
   ]
  },
  {
   "cell_type": "markdown",
   "metadata": {},
   "source": [
    "4. **List Slicing:**\n",
    "    - Given a list `nums = [10, 20, 30, 40, 50, 60, 70]`, perform the following:\n",
    "        - Extract the first three items.\n",
    "        - Extract the last two items.\n",
    "        - Extract every second item."
   ]
  },
  {
   "cell_type": "code",
   "execution_count": 14,
   "metadata": {},
   "outputs": [
    {
     "name": "stdout",
     "output_type": "stream",
     "text": [
      "[10, 20, 30]\n",
      "[50, 60, 70]\n",
      "[10, 30, 50, 70]\n"
     ]
    }
   ],
   "source": [
    "nums = [10, 20, 30, 40, 50, 60, 70]\n",
    "\n",
    "print(nums[:3])\n",
    "print(nums[-3:])\n",
    "print(nums[::2])"
   ]
  },
  {
   "cell_type": "markdown",
   "metadata": {},
   "source": [
    "5. **Pop Method:**\n",
    "    - Create a list of the first 10 even numbers.\n",
    "    - Use `pop()` to remove the last item and print both the removed item and the updated list."
   ]
  },
  {
   "cell_type": "markdown",
   "metadata": {},
   "source": [
    "6. **List Unpacking:**\n",
    "    - Given `grades = [85, 90, 78, 92]`, unpack the first two grades into variables `grade1` and `grade2` and store the rest in a list `remaining_grades`.\n",
    "    - Print all variables."
   ]
  },
  {
   "cell_type": "markdown",
   "metadata": {},
   "source": [
    "### Intermediate Problems"
   ]
  },
  {
   "cell_type": "markdown",
   "metadata": {},
   "source": [
    "7. **Joining Two Lists:**\n",
    "    - Given two lists, `list1 = [1, 2, 3]` and `list2 = [4, 5, 6]`, join them into a single list.\n",
    "    - Sort the combined list in descending order."
   ]
  },
  {
   "cell_type": "code",
   "execution_count": 16,
   "metadata": {},
   "outputs": [
    {
     "name": "stdout",
     "output_type": "stream",
     "text": [
      "[6, 5, 4, 3, 2, 1]\n"
     ]
    }
   ],
   "source": [
    "list1 = [1, 2, 3]\n",
    "list2 = [4,5, 6]\n",
    "list3 = list1 + list2\n",
    "list3.sort(reverse=True)\n",
    "\n",
    "print(list3)"
   ]
  },
  {
   "cell_type": "markdown",
   "metadata": {},
   "source": [
    "8. **Find Minimum and Maximum:**\n",
    "    - Write a program that takes a list of integers as input, finds the smallest and largest numbers, and prints them."
   ]
  },
  {
   "cell_type": "code",
   "execution_count": 22,
   "metadata": {},
   "outputs": [
    {
     "name": "stdout",
     "output_type": "stream",
     "text": [
      "Smallest number: 1 | Largest number: 4\n"
     ]
    }
   ],
   "source": [
    "def list_integers(numbers):\n",
    "  maximum = max(numbers)\n",
    "  minimum = min(numbers)\n",
    "  return f\"Smallest number: {minimum} | Largest number: {maximum}\"\n",
    "\n",
    "print(list_integers([1,2,3,4]))"
   ]
  },
  {
   "cell_type": "markdown",
   "metadata": {},
   "source": [
    "9. **Count Occurrences:**\n",
    "    - Given a list `names = ['Alice', 'Bob', 'Alice', 'Charlie', 'Bob', 'Alice']`, count how many times `'Alice'` appears in the list."
   ]
  },
  {
   "cell_type": "markdown",
   "metadata": {},
   "source": [
    "10. **Check Membership:**\n",
    "    - Write a function `is_present(lst, item)` that:\n",
    "        - Takes a list and an item as arguments.\n",
    "        - Returns `True` if the item is in the list, and `False` otherwise."
   ]
  },
  {
   "cell_type": "markdown",
   "metadata": {},
   "source": [
    "11. **Reversing a List:**\n",
    "    - Write a program to reverse the list `nums = [10, 20, 30, 40, 50]` using:\n",
    "        - Slicing.\n",
    "        - The `reverse()` method."
   ]
  },
  {
   "cell_type": "markdown",
   "metadata": {},
   "source": [
    "12. **List Comprehension:**\n",
    "    - Create a list of squares of numbers from 1 to 10 using list comprehension.\n",
    "    - Use a second list comprehension to filter out squares greater than 50."
   ]
  },
  {
   "cell_type": "markdown",
   "metadata": {},
   "source": [
    "### Advanced Problems"
   ]
  },
  {
   "cell_type": "markdown",
   "metadata": {},
   "source": [
    "13. **Flatten a Nested List:**\n",
    "    - Write a function `flatten(nested_list)` that:\n",
    "        - Takes a nested list, e.g., `[[1, 2], [3, 4], [5]]`.\n",
    "        - Returns a flat list, e.g., `[1, 2, 3, 4, 5]`."
   ]
  },
  {
   "cell_type": "code",
   "execution_count": 23,
   "metadata": {},
   "outputs": [
    {
     "name": "stdout",
     "output_type": "stream",
     "text": [
      "[1, 2, 3, 4, 5]\n"
     ]
    }
   ],
   "source": [
    "nested_list_sample = [[1, 2], [3, 4], [5]]\n",
    "\n",
    "def flatten(nested_list):\n",
    "  return [item for sublist in nested_list for item in sublist]\n",
    "\n",
    "print(flatten(nested_list_sample))"
   ]
  },
  {
   "cell_type": "markdown",
   "metadata": {},
   "source": [
    "14. **Unique Elements:**\n",
    "    - Given a list of integers, `nums = [1, 2, 2, 3, 4, 4, 5]`, write a program to remove duplicate elements while maintaining the original order."
   ]
  },
  {
   "cell_type": "code",
   "execution_count": 25,
   "metadata": {},
   "outputs": [
    {
     "name": "stdout",
     "output_type": "stream",
     "text": [
      "[1, 2, 3, 4, 5]\n"
     ]
    }
   ],
   "source": [
    "nums = [1,2,2,3,4,4,5]\n",
    "\n",
    "def unique_integers(integers_list):\n",
    "  filtered = set()\n",
    "  result = []\n",
    "\n",
    "  for num in integers_list:\n",
    "    if num not in filtered:\n",
    "      filtered.add(num)\n",
    "      result.append(num)\n",
    "  \n",
    "  return result\n",
    "\n",
    "print(unique_integers(nums))"
   ]
  },
  {
   "cell_type": "markdown",
   "metadata": {},
   "source": [
    "15. **List Sorting:**\n",
    "    - Given a list of tuples, `data = [(3, 'Alice'), (1, 'Bob'), (2, 'Charlie')]`, sort the list:\n",
    "        - By the first element of the tuple (ascending).\n",
    "        - By the second element of the tuple (alphabetical order)."
   ]
  },
  {
   "cell_type": "markdown",
   "metadata": {},
   "source": [
    "16. **Find Common Elements:**\n",
    "    - Write a function `common_elements(list1, list2)` that:\n",
    "        - Returns a list of elements present in both `list1` and `list2`.\n",
    "        - Example: `list1 = [1, 2, 3]`, `list2 = [2, 3, 4]`, Output: `[2, 3]`."
   ]
  },
  {
   "cell_type": "markdown",
   "metadata": {},
   "source": [
    "17. **Generate a Matrix:**\n",
    "    - Write a program to create a 3x3 matrix (list of lists) with the following values:\n",
    "        \n",
    "        [[1, 2, 3],\n",
    "         [4, 5, 6],\n",
    "         [7, 8, 9]]"
   ]
  },
  {
   "cell_type": "markdown",
   "metadata": {},
   "source": [
    "18. **Find Second Largest Number:**\n",
    "    - Given a list of integers, `nums = [10, 20, 4, 45, 99]`, write a program to find the second largest number."
   ]
  },
  {
   "cell_type": "markdown",
   "metadata": {},
   "source": [
    "19. **Cyclic Rotation:**\n",
    "    - Write a function `rotate_list(lst, k)` that:\n",
    "        - Rotates a list `lst` to the right by `k` positions.\n",
    "        - Example: `rotate_list([1, 2, 3, 4], 2)` should return `[3, 4, 1, 2]`."
   ]
  },
  {
   "cell_type": "markdown",
   "metadata": {},
   "source": [
    "20. **List Pairing:**\n",
    "    - Given two lists `list1 = ['a', 'b', 'c']` and `list2 = [1, 2, 3]`, write a program to pair the elements of the lists into tuples.\n",
    "    - Output: `[('a', 1), ('b', 2), ('c', 3)]`."
   ]
  }
 ],
 "metadata": {
  "kernelspec": {
   "display_name": "base",
   "language": "python",
   "name": "python3"
  },
  "language_info": {
   "codemirror_mode": {
    "name": "ipython",
    "version": 3
   },
   "file_extension": ".py",
   "mimetype": "text/x-python",
   "name": "python",
   "nbconvert_exporter": "python",
   "pygments_lexer": "ipython3",
   "version": "3.8.8"
  }
 },
 "nbformat": 4,
 "nbformat_minor": 2
}
