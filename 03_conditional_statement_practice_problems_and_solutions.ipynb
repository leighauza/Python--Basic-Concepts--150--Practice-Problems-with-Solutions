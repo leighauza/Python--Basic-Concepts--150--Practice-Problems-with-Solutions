{
 "cells": [
  {
   "cell_type": "markdown",
   "metadata": {},
   "source": [
    "# Conditional Statement Problems\n",
    "\n",
    "These are 15 Python practice problems on conditional statements, ranging from basics to advanced use cases. These exercises cover if, elif, else, nested conditions, and other commonly used patterns to strengthen your understanding."
   ]
  },
  {
   "cell_type": "markdown",
   "metadata": {},
   "source": [
    "### Basic Problems"
   ]
  },
  {
   "cell_type": "markdown",
   "metadata": {},
   "source": [
    "1. **Positive, Negative, or Zero:**\n",
    "   Write a program that takes an integer as input and checks whether it is positive, negative, or zero. Print the result."
   ]
  },
  {
   "cell_type": "code",
   "execution_count": 4,
   "metadata": {},
   "outputs": [
    {
     "name": "stdout",
     "output_type": "stream",
     "text": [
      "positive\n"
     ]
    }
   ],
   "source": [
    "def evaluate_integer(x):\n",
    "  if x > 0:\n",
    "    return \"positive\"\n",
    "  elif x < 0:\n",
    "    return \"negative\"\n",
    "  else:\n",
    "    return \"zero\"\n",
    "\n",
    "print(evaluate_integer(2))"
   ]
  },
  {
   "cell_type": "markdown",
   "metadata": {},
   "source": [
    "2. **Odd or Even:**\n",
    "   Write a program to check if a given number is odd or even."
   ]
  },
  {
   "cell_type": "code",
   "execution_count": 5,
   "metadata": {},
   "outputs": [
    {
     "name": "stdout",
     "output_type": "stream",
     "text": [
      "odd\n"
     ]
    }
   ],
   "source": [
    "def evaluate_odd_even(x):\n",
    "  if x%2 == 0:\n",
    "    return \"even\"\n",
    "  else:\n",
    "    return \"odd\"\n",
    "\n",
    "print(evaluate_odd_even(9))"
   ]
  },
  {
   "cell_type": "markdown",
   "metadata": {},
   "source": [
    "3. **Vowel or Consonant:**\n",
    "   Write a program that takes a character as input and checks if it's a vowel or consonant. Consider both uppercase and lowercase letters."
   ]
  },
  {
   "cell_type": "code",
   "execution_count": 12,
   "metadata": {},
   "outputs": [
    {
     "name": "stdout",
     "output_type": "stream",
     "text": [
      "vowels\n"
     ]
    }
   ],
   "source": [
    "def vowel_or_consonant(x):\n",
    "  vowels = (\"aeiouAEIOU\")\n",
    "  if x in vowels:\n",
    "    return \"vowels\"\n",
    "  else:\n",
    "    return \"consonant\"\n",
    "\n",
    "print(vowel_or_consonant(\"A\"))"
   ]
  },
  {
   "cell_type": "markdown",
   "metadata": {},
   "source": [
    "4. **Greater Number:**\n",
    "   Write a program to take two numbers as input and print which number is greater. If they are equal, print \"Both numbers are equal.\""
   ]
  },
  {
   "cell_type": "code",
   "execution_count": 14,
   "metadata": {},
   "outputs": [
    {
     "name": "stdout",
     "output_type": "stream",
     "text": [
      "7\n"
     ]
    }
   ],
   "source": [
    "def greater_number(x, y):\n",
    "  if x > y:\n",
    "    return x\n",
    "  elif x < y:\n",
    "    return y\n",
    "  else:\n",
    "    return \"Both numbers are equal.\"\n",
    "\n",
    "print(greater_number(3, 7))"
   ]
  },
  {
   "cell_type": "markdown",
   "metadata": {},
   "source": [
    "5. **Pass or Fail:**\n",
    "   Write a program that asks for a student's marks out of 100. Print \"Pass\" if the marks are 50 or more, otherwise print \"Fail.\""
   ]
  },
  {
   "cell_type": "code",
   "execution_count": 18,
   "metadata": {},
   "outputs": [
    {
     "name": "stdout",
     "output_type": "stream",
     "text": [
      "Pass\n"
     ]
    }
   ],
   "source": [
    "def students_marks(score):\n",
    "  if score >= 50:\n",
    "    return \"Pass\"\n",
    "  else:\n",
    "    return \"Fail\"\n",
    "\n",
    "print(students_marks(99))"
   ]
  },
  {
   "cell_type": "markdown",
   "metadata": {},
   "source": [
    "### Intermediate Problems"
   ]
  },
  {
   "cell_type": "markdown",
   "metadata": {},
   "source": [
    "6. **Grade System:**\n",
    "    Write a program that assigns grades based on the following conditions:\n",
    "    - 90 and above: \"A\"\n",
    "    - 80–89: \"B\"\n",
    "    - 70–79: \"C\"\n",
    "    - 60–69: \"D\"\n",
    "    - Below 60: \"F\""
   ]
  },
  {
   "cell_type": "code",
   "execution_count": 21,
   "metadata": {},
   "outputs": [
    {
     "name": "stdout",
     "output_type": "stream",
     "text": [
      "B\n"
     ]
    }
   ],
   "source": [
    "def grading_system(score):\n",
    "  if score >= 90:\n",
    "    return \"A\"\n",
    "  elif score >= 80:\n",
    "    return \"B\"\n",
    "  elif score >= 70:\n",
    "    return \"C\"\n",
    "  elif score >= 60:\n",
    "    return \"D\"\n",
    "  else:\n",
    "    return \"F\"\n",
    "\n",
    "print(grading_system(88))"
   ]
  },
  {
   "cell_type": "markdown",
   "metadata": {},
   "source": [
    "7. **Leap Year:**\n",
    "    Write a program to check if a given year is a leap year.\n",
    "    - A year is a leap year if:\n",
    "        - It is divisible by 4.\n",
    "        - But not divisible by 100, unless also divisible by 400."
   ]
  },
  {
   "cell_type": "code",
   "execution_count": 4,
   "metadata": {},
   "outputs": [
    {
     "name": "stdout",
     "output_type": "stream",
     "text": [
      "It's a leap year!\n"
     ]
    }
   ],
   "source": [
    "def check_leap_year(year):\n",
    "  if year%4==0 and year%100!=0:\n",
    "    return \"It's a leap year!\"\n",
    "  elif year%400==0:\n",
    "    return \"It's a leap year!\"\n",
    "  else:\n",
    "    return \"It's not a leap year.\"\n",
    "\n",
    "print(check_leap_year(2024))"
   ]
  },
  {
   "cell_type": "markdown",
   "metadata": {},
   "source": [
    "8. **Check Divisibility:**\n",
    "    Write a program that takes an integer as input and checks if it is divisible by both 5 and 7."
   ]
  },
  {
   "cell_type": "code",
   "execution_count": 7,
   "metadata": {},
   "outputs": [
    {
     "name": "stdout",
     "output_type": "stream",
     "text": [
      "Integer is divisible by 5 and 7\n"
     ]
    }
   ],
   "source": [
    "def check_5_7_divisibility(integer):\n",
    "  \n",
    "  if integer%5==0 and integer%7==0:\n",
    "    return \"Integer is divisible by 5 and 7\"\n",
    "  else:\n",
    "    return \"Integer is not divisible by 5 and 7\"\n",
    "\n",
    "print(check_5_7_divisibility(35))"
   ]
  },
  {
   "cell_type": "markdown",
   "metadata": {},
   "source": [
    "9. **Largest of Three Numbers:**\n",
    "    Write a program that takes three numbers as input and prints the largest one. If there are ties, print \"There is a tie.\""
   ]
  },
  {
   "cell_type": "code",
   "execution_count": 13,
   "metadata": {},
   "outputs": [
    {
     "name": "stdout",
     "output_type": "stream",
     "text": [
      "6\n"
     ]
    }
   ],
   "source": [
    "def largest_of_three(a, b, c):\n",
    "  numbers = [a, b, c]\n",
    "  largest = max(numbers)\n",
    "\n",
    "  if numbers.count(largest) > 1:\n",
    "    return \"There is a tie.\"\n",
    "  else:\n",
    "    return largest\n",
    "\n",
    "print(largest_of_three(4,5,6))"
   ]
  },
  {
   "cell_type": "markdown",
   "metadata": {},
   "source": [
    "10. **Number in Range:**\n",
    "    Write a program that takes a number and checks if it lies between 1 and 100 (inclusive). If it does, print \"In range\"; otherwise, print \"Out of range.\""
   ]
  },
  {
   "cell_type": "code",
   "execution_count": 5,
   "metadata": {},
   "outputs": [
    {
     "name": "stdout",
     "output_type": "stream",
     "text": [
      "Not in range.\n",
      "Not in range.\n",
      "In range!\n",
      "In range!\n",
      "In range!\n"
     ]
    }
   ],
   "source": [
    "def number_in_range(n):\n",
    "  if n >= 1 and n <= 100:\n",
    "    print(\"In range!\")\n",
    "  else:\n",
    "    print(\"Not in range.\")\n",
    "\n",
    "# Test:\n",
    "number_in_range(-1)\n",
    "number_in_range(0)\n",
    "number_in_range(1)\n",
    "number_in_range(100)\n",
    "number_in_range(99)"
   ]
  },
  {
   "cell_type": "markdown",
   "metadata": {},
   "source": [
    "### Advanced Problems"
   ]
  },
  {
   "cell_type": "markdown",
   "metadata": {},
   "source": [
    "1. **Nested Conditions - BMI Calculator:**\n",
    "    Write a program that calculates the Body Mass Index (BMI) and prints the corresponding category:\n",
    "    - BMI < 18.5: Underweight\n",
    "    - 18.5 ≤ BMI < 25: Normal weight\n",
    "    - 25 ≤ BMI < 30: Overweight\n",
    "    - BMI ≥ 30: Obesity"
   ]
  },
  {
   "cell_type": "code",
   "execution_count": 22,
   "metadata": {},
   "outputs": [
    {
     "name": "stdout",
     "output_type": "stream",
     "text": [
      "Normal weight\n"
     ]
    }
   ],
   "source": [
    "def bmi_calculator(weight, height):\n",
    "  bmi = weight/(height**2)\n",
    "\n",
    "  if bmi < 18.5:\n",
    "    return \"Underweight\"\n",
    "  if bmi < 25:\n",
    "    return \"Normal weight\"\n",
    "  if bmi < 30:\n",
    "    return \"Overweight\"\n",
    "  else:\n",
    "    return \"Obesity\"\n",
    "  \n",
    "print(bmi_calculator(48, 1.54))"
   ]
  },
  {
   "cell_type": "markdown",
   "metadata": {},
   "source": [
    "2. **Login System:**\n",
    "    Write a program to simulate a login system:\n",
    "    - Ask for a username and password.\n",
    "    - If the username is \"admin\" and the password is \"password123\", print \"Login successful.\"\n",
    "    - Otherwise, print \"Invalid credentials.\""
   ]
  },
  {
   "cell_type": "code",
   "execution_count": 16,
   "metadata": {},
   "outputs": [
    {
     "name": "stdout",
     "output_type": "stream",
     "text": [
      "Login successful.\n",
      "Invalid credentials.\n"
     ]
    }
   ],
   "source": [
    "def login_system(username, password):\n",
    "  if username == \"admin\" and password == \"password123\":\n",
    "    return \"Login successful.\"\n",
    "  else:\n",
    "    return \"Invalid credentials.\"\n",
    "\n",
    "print(login_system(\"admin\", \"password123\"))\n",
    "print(login_system(\"user\", \"password1\"))"
   ]
  },
  {
   "cell_type": "markdown",
   "metadata": {},
   "source": [
    "3. **Multiple Conditions - Ticket Pricing:**\n",
    "    Write a program to calculate the ticket price based on age:\n",
    "    - Age < 5: Free\n",
    "    - Age 5–18: $10\n",
    "    - Age 19–60: $20\n",
    "    - Age > 60: $15"
   ]
  },
  {
   "cell_type": "code",
   "execution_count": 1,
   "metadata": {},
   "outputs": [
    {
     "name": "stdout",
     "output_type": "stream",
     "text": [
      "$20\n"
     ]
    }
   ],
   "source": [
    "def ticket_price(age):\n",
    "  if age < 5:\n",
    "    return \"Free\"\n",
    "  elif age <= 18:\n",
    "    return \"$10\"\n",
    "  elif age <= 60:\n",
    "    return \"$20\"\n",
    "  else:\n",
    "    return \"$15\"\n",
    "\n",
    "print(ticket_price(25))"
   ]
  },
  {
   "cell_type": "markdown",
   "metadata": {},
   "source": [
    "4. **Prime Number Check:**\n",
    "    Write a program that takes a number and checks if it is prime. A prime number has no divisors other than 1 and itself."
   ]
  },
  {
   "cell_type": "code",
   "execution_count": 3,
   "metadata": {},
   "outputs": [
    {
     "name": "stdout",
     "output_type": "stream",
     "text": [
      "True\n",
      "False\n"
     ]
    }
   ],
   "source": [
    "def is_prime(number):\n",
    "  if number < 2:\n",
    "    return False\n",
    "  for i in range(2, int(number ** 0.5)):\n",
    "    if number % i == 0:\n",
    "      return False\n",
    "    else:\n",
    "      return True\n",
    "\n",
    "print(is_prime(11))\n",
    "print(is_prime(12))"
   ]
  },
  {
   "cell_type": "markdown",
   "metadata": {},
   "source": [
    "5. **FizzBuzz Game:**\n",
    "    Write a program that prints numbers from 1 to 50. For multiples of 3, print \"Fizz\"; for multiples of 5, print \"Buzz\"; and for multiples of both 3 and 5, print \"FizzBuzz.\""
   ]
  },
  {
   "cell_type": "code",
   "execution_count": 4,
   "metadata": {},
   "outputs": [
    {
     "name": "stdout",
     "output_type": "stream",
     "text": [
      "1\n",
      "2\n",
      "Fizz\n",
      "4\n",
      "Buzz\n",
      "Fizz\n",
      "7\n",
      "8\n",
      "Fizz\n",
      "Buzz\n",
      "11\n",
      "Fizz\n",
      "13\n",
      "14\n",
      "FizzBuzz\n",
      "16\n",
      "17\n",
      "Fizz\n",
      "19\n",
      "Buzz\n",
      "Fizz\n",
      "22\n",
      "23\n",
      "Fizz\n",
      "Buzz\n",
      "26\n",
      "Fizz\n",
      "28\n",
      "29\n",
      "FizzBuzz\n",
      "31\n",
      "32\n",
      "Fizz\n",
      "34\n",
      "Buzz\n",
      "Fizz\n",
      "37\n",
      "38\n",
      "Fizz\n",
      "Buzz\n",
      "41\n",
      "Fizz\n",
      "43\n",
      "44\n",
      "FizzBuzz\n",
      "46\n",
      "47\n",
      "Fizz\n",
      "49\n"
     ]
    }
   ],
   "source": [
    "for num in range (1, 50):\n",
    "  if num % 3 == 0 and num % 5 == 0:\n",
    "    print(\"FizzBuzz\")\n",
    "  elif num % 3 == 0 :\n",
    "    print(\"Fizz\")\n",
    "  elif num % 5 == 0:\n",
    "    print(\"Buzz\")\n",
    "  else:\n",
    "    print(num)\n",
    "\n"
   ]
  },
  {
   "cell_type": "markdown",
   "metadata": {},
   "source": [
    "### Bonus Challenges"
   ]
  },
  {
   "cell_type": "markdown",
   "metadata": {},
   "source": [
    "1. **Palindrome Check:**\n",
    "    Write a program to check if a given string is a palindrome (reads the same backward as forward)."
   ]
  },
  {
   "cell_type": "code",
   "execution_count": 6,
   "metadata": {},
   "outputs": [
    {
     "name": "stdout",
     "output_type": "stream",
     "text": [
      "Is a palindrome!\n",
      "Is a palindrome!\n",
      "Not a palindrome.\n"
     ]
    }
   ],
   "source": [
    "def is_palindrome(string):\n",
    "  if string == string[::-1]:\n",
    "    print(\"Is a palindrome!\")\n",
    "  else:\n",
    "    print(\"Not a palindrome.\")\n",
    "\n",
    "# Teset\n",
    "is_palindrome(\"refer\")\n",
    "is_palindrome(\"deified\")\n",
    "is_palindrome(\"challenge\")"
   ]
  },
  {
   "cell_type": "markdown",
   "metadata": {},
   "source": [
    "2. **Quadratic Equation Solver:**\n",
    "    Write a program to solve a quadratic equation . Use conditions to handle:\n",
    "\n",
    "    ax2+bx+c=0\n",
    "\n",
    "    - Two real roots.\n",
    "    - One real root.\n",
    "    - No real roots."
   ]
  },
  {
   "cell_type": "code",
   "execution_count": 13,
   "metadata": {},
   "outputs": [
    {
     "name": "stdout",
     "output_type": "stream",
     "text": [
      "Two real roots: x1 = 3.00, x2 = 2.00\n",
      "One real root: x = -2.00\n",
      "No real roots, complex solution: x1 = -1.00 + 1.4142135623730951i, x2 = -1.00 - 1.4142135623730951i\n"
     ]
    }
   ],
   "source": [
    "import math\n",
    "\n",
    "def quadratic_equation_solver(a, b, c):\n",
    "  \n",
    "  # Edge Case\n",
    "  if a == 0:\n",
    "    print(\"This is not a quadratic equation (a cannot be zero).\")\n",
    "\n",
    "  # Discriminant\n",
    "  D = b**2 - 4*a*c\n",
    "\n",
    "  if D > 0:    # 2 real roots\n",
    "    root1 = (-b + math.sqrt(D)) / (2*a) \n",
    "    root2 = (-b - math.sqrt(D)) / (2*a)\n",
    "    return (f\"Two real roots: x1 = {root1:.2f}, x2 = {root2:.2f}\")\n",
    "  \n",
    "  if D == 0:   # 1 real root\n",
    "    root = -b / (2*a)\n",
    "    return (f\"One real root: x = {root:.2f}\")\n",
    "  \n",
    "  else:        # Complex roots\n",
    "    real_part = -b / (2*a)\n",
    "    imaginary_part = math.sqrt(abs(D)) / (2*a)\n",
    "    return (f\"No real roots, complex solution: x1 = {real_part:.2f} + {imaginary_part}i, x2 = {real_part:.2f} - {imaginary_part}i\")\n",
    "  \n",
    "\n",
    "\n",
    "# Test\n",
    "print(quadratic_equation_solver(1, -5, 6)) # 2 real roots\n",
    "print(quadratic_equation_solver(1, 4, 4))  # 1 real root\n",
    "print(quadratic_equation_solver(1, 2, 3))  # No real root\n"
   ]
  },
  {
   "cell_type": "markdown",
   "metadata": {},
   "source": [
    "3. **Number Comparison with Else-If Ladder:**\n",
    "    Write a program that takes an integer and:\n",
    "    - Prints \"Small\" if it is less than 10.\n",
    "    - Prints \"Medium\" if it is between 10 and 20.\n",
    "    - Prints \"Large\" if it is greater than 20."
   ]
  },
  {
   "cell_type": "code",
   "execution_count": 15,
   "metadata": {},
   "outputs": [
    {
     "name": "stdout",
     "output_type": "stream",
     "text": [
      "Small\n",
      "Medium\n",
      "Large\n",
      "Small\n"
     ]
    }
   ],
   "source": [
    "def integer_comparison(int):\n",
    "  if int < 10:\n",
    "    print(\"Small\")\n",
    "  elif int >= 10 and int <= 20:\n",
    "    print(\"Medium\")\n",
    "  else:\n",
    "    print(\"Large\")\n",
    "\n",
    "# Test\n",
    "integer_comparison(2)\n",
    "integer_comparison(14)\n",
    "integer_comparison(42)\n",
    "integer_comparison(-2)"
   ]
  },
  {
   "cell_type": "markdown",
   "metadata": {},
   "source": [
    "4. **Password Strength Checker:**\n",
    "    Write a program to check the strength of a password:\n",
    "    - A password is \"Strong\" if it has at least 8 characters, contains a number, and has a special character.\n",
    "    - Otherwise, print \"Weak.\""
   ]
  },
  {
   "cell_type": "code",
   "execution_count": 16,
   "metadata": {},
   "outputs": [
    {
     "name": "stdout",
     "output_type": "stream",
     "text": [
      "Strong\n",
      "Weak\n",
      "Weak\n",
      "Weak\n"
     ]
    }
   ],
   "source": [
    "import string\n",
    "\n",
    "def password_strength(password):\n",
    "\n",
    "  # Define\n",
    "  special_characters = set(string.punctuation)\n",
    "\n",
    "  # Check requirements\n",
    "  length = len(password) >= 8\n",
    "  number = any(char.isdigit() for char in password)\n",
    "  special = any(char in special_characters for char in password)\n",
    "\n",
    "  if length and number and special:\n",
    "    print(\"Strong\")\n",
    "  else:\n",
    "    print(\"Weak\")\n",
    "\n",
    "# Test\n",
    "password_strength(\"123abc*!\")\n",
    "password_strength(\"123ab!\")\n",
    "password_strength(\"123abcdef\")\n",
    "password_strength(\"abcdabc*!\")"
   ]
  },
  {
   "cell_type": "markdown",
   "metadata": {},
   "source": [
    "5. **Triangle Type Checker:**\n",
    "    Write a program that takes three side lengths as input and checks if they form a valid triangle. If valid, determine whether the triangle is:\n",
    "    - Equilateral\n",
    "    - Isosceles\n",
    "    - Scalene"
   ]
  },
  {
   "cell_type": "code",
   "execution_count": 19,
   "metadata": {},
   "outputs": [
    {
     "name": "stdout",
     "output_type": "stream",
     "text": [
      "Equilateral Triangle\n",
      "Isosceles Triangle\n",
      "Scalene Triangle\n",
      "Not a triangle\n"
     ]
    }
   ],
   "source": [
    "def triangle_checker(a, b, c):\n",
    "\n",
    "  if a + b > c and a + c > b and b + c > a:\n",
    "    if a == b == c:\n",
    "      print(\"Equilateral Triangle\")\n",
    "    elif a == b or b == c or c == a:\n",
    "      print(\"Isosceles Triangle\")\n",
    "    else:\n",
    "      print(\"Scalene Triangle\")\n",
    "  else:\n",
    "    print(\"Not a triangle\")\n",
    "\n",
    "# Test\n",
    "triangle_checker(3, 3, 3)\n",
    "triangle_checker(3, 3, 4)\n",
    "triangle_checker(3, 4, 5)\n",
    "triangle_checker(3, 3, 7)"
   ]
  }
 ],
 "metadata": {
  "kernelspec": {
   "display_name": "myenv",
   "language": "python",
   "name": "python3"
  },
  "language_info": {
   "codemirror_mode": {
    "name": "ipython",
    "version": 3
   },
   "file_extension": ".py",
   "mimetype": "text/x-python",
   "name": "python",
   "nbconvert_exporter": "python",
   "pygments_lexer": "ipython3",
   "version": "3.11.11"
  }
 },
 "nbformat": 4,
 "nbformat_minor": 2
}
